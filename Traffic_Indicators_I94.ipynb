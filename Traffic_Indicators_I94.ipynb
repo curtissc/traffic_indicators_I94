{
 "cells": [
  {
   "cell_type": "markdown",
   "metadata": {},
   "source": [
    "# Traffic Indicators on I-94"
   ]
  },
  {
   "cell_type": "markdown",
   "metadata": {},
   "source": [
    "## Introduction"
   ]
  },
  {
   "cell_type": "markdown",
   "metadata": {},
   "source": [
    "In this project, we will analyze a dataset about the westbound traffic on the I-94 Interstate highway using a [data set](https://archive.ics.uci.edu/ml/datasets/Metro+Interstate+Traffic+Volume) made available by John Hogue. I-94 runs from Billings, Montana, to Port Huron, Michigan through the Great Lakes region in the northern United States. Our data set tracks westbound traffic volume in addition to weather, temperature, date/time, and whether the day was a holiday. The data was acquired from a station located approximately midway between Minneapolis and Saint Paul.\n",
    "\n",
    "The goal of our analysis is to determine some indicators of heavy traffic on I-94--indicators such as weather type, time of the day, time of the week, etc. with the goal of avoiding future traffic ourselves when headed west on I-94."
   ]
  },
  {
   "cell_type": "markdown",
   "metadata": {},
   "source": [
    "### Importing and Inspecting the Data"
   ]
  },
  {
   "cell_type": "code",
   "execution_count": null,
   "metadata": {},
   "outputs": [],
   "source": [
    "import numpy as np\n",
    "import pandas as pd\n",
    "import matplotlib.pyplot as plt\n",
    "%matplotlib inline\n",
    "import seaborn as sns\n",
    "sns.set_theme()\n",
    "traffic = pd.read_csv('../Datasets/Metro_Interstate_Traffic_Volume.csv')"
   ]
  },
  {
   "cell_type": "markdown",
   "metadata": {},
   "source": [
    "| variable | type | description |\n",
    "| --- | --- | --- |\n",
    "| holiday | Categorical | US National holidays plus regional holiday, Minnesota State Fair |\n",
    "| temp | Numeric | Average temp in kelvin |\n",
    "| rain_1h | Numeric | Amount in mm of rain that occurred in the hour |\n",
    "| snow_1h | Numeric | Amount in mm of snow that occurred in the hour |\n",
    "| clouds_all | Numeric | Percentage of cloud cover |\n",
    "| weather_main | Categorical | Short textual description of the current weather |\n",
    "| weather_description | Categorical | Longer textual description of the current weather |\n",
    "| date_time | DateTime | Hour of the data collected in local CST time |\n",
    "| traffic_volume | Numeric | Hourly I-94 ATR 301 reported westbound traffic volume |"
   ]
  },
  {
   "cell_type": "markdown",
   "metadata": {},
   "source": [
    "Let's take a quick look at the data"
   ]
  },
  {
   "cell_type": "code",
   "execution_count": null,
   "metadata": {},
   "outputs": [],
   "source": [
    "traffic.head()"
   ]
  },
  {
   "cell_type": "code",
   "execution_count": null,
   "metadata": {},
   "outputs": [],
   "source": [
    "traffic.tail()"
   ]
  },
  {
   "cell_type": "code",
   "execution_count": null,
   "metadata": {},
   "outputs": [],
   "source": [
    "traffic.info()"
   ]
  },
  {
   "cell_type": "markdown",
   "metadata": {},
   "source": [
    "Let's inspect the distribution of our main variable, `traffic_volume`."
   ]
  },
  {
   "cell_type": "code",
   "execution_count": null,
   "metadata": {},
   "outputs": [],
   "source": [
    "plt.hist(traffic['traffic_volume'], bins=30)\n",
    "plt.show()"
   ]
  },
  {
   "cell_type": "code",
   "execution_count": null,
   "metadata": {},
   "outputs": [],
   "source": [
    "traffic['traffic_volume'].describe()"
   ]
  },
  {
   "cell_type": "markdown",
   "metadata": {},
   "source": [
    "Westbound traffic on I-94 shows a trimodal distribution, indicating that it has three common states: low--roughly 250-500 cars hourly; medium--roughly 3000 cars hourly; or high--roughly 4500-5000 cars hourly. These roughly track our data's 25th, 50th, and 75th percentile."
   ]
  },
  {
   "cell_type": "markdown",
   "metadata": {},
   "source": [
    "## Analyzing the Data"
   ]
  },
  {
   "cell_type": "markdown",
   "metadata": {},
   "source": [
    "One obvious factor that may regularly traffic volume is time of day. Thus, we'll first take a look at how time of day affects traffic volume."
   ]
  },
  {
   "cell_type": "markdown",
   "metadata": {},
   "source": [
    "### Effects of Day vs. Night"
   ]
  },
  {
   "cell_type": "markdown",
   "metadata": {},
   "source": [
    "The first way we'll look into time effects is categorically, dividing the data into daytime and night time subsets. First, though, we'll change the type of the `date_time` variable into datetime."
   ]
  },
  {
   "cell_type": "code",
   "execution_count": null,
   "metadata": {},
   "outputs": [],
   "source": [
    "traffic['date_time'] = pd.to_datetime(traffic['date_time'])"
   ]
  },
  {
   "cell_type": "markdown",
   "metadata": {},
   "source": [
    "Now we'll get the hour of each entry to use this in separating the data into day and night."
   ]
  },
  {
   "cell_type": "code",
   "execution_count": null,
   "metadata": {},
   "outputs": [],
   "source": [
    "traffic['hour'] = traffic['date_time'].dt.hour"
   ]
  },
  {
   "cell_type": "code",
   "execution_count": null,
   "metadata": {},
   "outputs": [],
   "source": [
    "traffic['hour'].describe()"
   ]
  },
  {
   "cell_type": "markdown",
   "metadata": {},
   "source": [
    "Hours run from 0 to 23. We might resonably consider daytime hours to be 7:00 am - 7:00 pm and night time hours to be 7:00 pm - 7:00 am. "
   ]
  },
  {
   "cell_type": "code",
   "execution_count": null,
   "metadata": {},
   "outputs": [],
   "source": [
    "daynight = {}\n",
    "daynight['Day'] = traffic[(traffic['hour'] > 7) & (traffic['hour'] <= 19)]\n",
    "daynight['Night'] = traffic[(traffic['hour'] <= 7) | (traffic['hour'] > 19)]"
   ]
  },
  {
   "cell_type": "markdown",
   "metadata": {},
   "source": [
    "Now, let's have a look at the distribution of traffic volume for day and night."
   ]
  },
  {
   "cell_type": "code",
   "execution_count": null,
   "metadata": {},
   "outputs": [],
   "source": [
    "times = ['Day', 'Night']\n",
    "plt.figure(figsize=(10,4))\n",
    "\n",
    "for i, time in zip(range(1,3), times):\n",
    "    plt.subplot(1,2,i)\n",
    "    plt.hist(daynight[time]['traffic_volume'], bins=20)\n",
    "    plt.title(time)\n",
    "    plt.xlabel('Traffic Volume (cars/hr)')\n",
    "    plt.ylabel('Frequency')\n",
    "    plt.xlim([0,8000])\n",
    "    plt.ylim([0,5000])\n",
    "    \n",
    "plt.show()"
   ]
  },
  {
   "cell_type": "code",
   "execution_count": null,
   "metadata": {},
   "outputs": [],
   "source": [
    "for t in times:\n",
    "    print(t)\n",
    "    print(daynight[t]['traffic_volume'].describe())\n",
    "    print('\\n')"
   ]
  },
  {
   "cell_type": "markdown",
   "metadata": {},
   "source": [
    "It's clear from these graphs that the two times of day have very different distributions. Daytime traffic seems to be unimodal with a slight negative skew. The daytime peak is around 5000 cars/hr. Night time traffic, however, seems to be trimodal, similar to the overall data set, with a strong low traffic peak, a weaker medium traffic peak, and a small high traffic peak. "
   ]
  },
  {
   "cell_type": "markdown",
   "metadata": {},
   "source": [
    "### Effects of Hour of Day"
   ]
  },
  {
   "cell_type": "markdown",
   "metadata": {},
   "source": [
    "Now let's inspect the traffic by time in a more granular way by inpecting hourly traffic. First, we'll get make a plot that helps us see the distribution, then we'll plot the average hourly traffic."
   ]
  },
  {
   "cell_type": "code",
   "execution_count": null,
   "metadata": {},
   "outputs": [],
   "source": [
    "hourly_avgs = traffic.groupby('hour').mean()[['traffic_volume']].reset_index()"
   ]
  },
  {
   "cell_type": "code",
   "execution_count": null,
   "metadata": {},
   "outputs": [],
   "source": [
    "plt.figure(figsize=(10,4))\n",
    "\n",
    "# Violin Plot\n",
    "plt.subplot(1,2,1)\n",
    "sns.violinplot(data = traffic, x = \"hour\",\n",
    "             y = \"traffic_volume\")\n",
    "plt.xlabel('Hour of Day')\n",
    "plt.ylabel('Traffic Volume (cars/hr)')\n",
    "plt.title(\"Traffic Volume by Hour of Day\")\n",
    "plt.ylim([0,8500])\n",
    "\n",
    "# Bar Plot of Averages\n",
    "plt.subplot(1,2,2)\n",
    "plt.bar(hourly_avgs['hour'], hourly_avgs['traffic_volume'])\n",
    "plt.xticks(range(0,24))\n",
    "plt.xlabel('Hour of Day')\n",
    "plt.ylabel('Mean Traffic Volume (cars/hr)')\n",
    "plt.title(\"Traffic Volume by Hour of Day\")\n",
    "plt.ylim([0,8500])\n",
    "\n",
    "plt.show()"
   ]
  },
  {
   "cell_type": "markdown",
   "metadata": {},
   "source": [
    "These plots show that from the hours of roughly 11:00 pm (23:00) to 5:00 am, traffic is relatively calm. However, between about 6:00 am and 6:00 pm, traffic is at its highest, with the hours of 6:00 - 8:00 am and 3:00 - 5:00 pm (15:00 - 17:00) being the most variable. The highest average traffic is from 3:00 - 5:00 pm, and the lowest average traffic is from 1:00 - 3:00 am."
   ]
  },
  {
   "cell_type": "markdown",
   "metadata": {},
   "source": [
    "### Effect of Month on Traffic"
   ]
  },
  {
   "cell_type": "markdown",
   "metadata": {},
   "source": [
    "Next, we'll look into effects of month of the year on traffic volume.\n",
    "\n",
    "First, we'll add a month variable to our data set."
   ]
  },
  {
   "cell_type": "code",
   "execution_count": null,
   "metadata": {},
   "outputs": [],
   "source": [
    "traffic['month'] = traffic['date_time'].dt.month"
   ]
  },
  {
   "cell_type": "code",
   "execution_count": null,
   "metadata": {},
   "outputs": [],
   "source": [
    "traffic['month'].describe()"
   ]
  },
  {
   "cell_type": "markdown",
   "metadata": {},
   "source": [
    "Next, we'll get the average monthly traffic and plot the distribution and the average."
   ]
  },
  {
   "cell_type": "code",
   "execution_count": null,
   "metadata": {},
   "outputs": [],
   "source": [
    "monthly_avgs = traffic.groupby('month').mean()[['traffic_volume']].reset_index()"
   ]
  },
  {
   "cell_type": "code",
   "execution_count": null,
   "metadata": {},
   "outputs": [],
   "source": [
    "plt.figure(figsize=(10,4))\n",
    "\n",
    "# Violin Plot\n",
    "plt.subplot(1,2,1)\n",
    "sns.violinplot(data = traffic, x = \"month\",\n",
    "             y = \"traffic_volume\")\n",
    "plt.xlabel('Month of Year')\n",
    "plt.ylabel('Mean Traffic Volume (cars/hr)')\n",
    "plt.title(\"Traffic Volume by Month of Year\")\n",
    "plt.ylim([0,8500])\n",
    "\n",
    "# Bar Plot of Averages\n",
    "plt.subplot(1,2,2)\n",
    "plt.bar(monthly_avgs['month'], monthly_avgs['traffic_volume'])\n",
    "plt.xticks(range(1,13))\n",
    "plt.xlabel('Month of Year')\n",
    "plt.ylabel('Mean Traffic Volume (cars/hr)')\n",
    "plt.title(\"Traffic Volume by Month of Year\")\n",
    "plt.ylim([0,8500])\n",
    "\n",
    "plt.show()"
   ]
  },
  {
   "cell_type": "markdown",
   "metadata": {},
   "source": [
    "The violin plot is very difficult to discern, and the average differences are hard to see without zooming the plot in, so let's do that."
   ]
  },
  {
   "cell_type": "code",
   "execution_count": null,
   "metadata": {},
   "outputs": [],
   "source": [
    "plt.bar(monthly_avgs['month'], monthly_avgs['traffic_volume'])\n",
    "plt.xlabel('Month of Year')\n",
    "plt.ylabel('Mean Traffic Volume (cars/hr)')\n",
    "plt.title(\"Traffic Volume by Month of Year\")\n",
    "plt.xticks(range(1,13))\n",
    "plt.ylim([2900,3500])\n",
    "\n",
    "plt.show()"
   ]
  },
  {
   "cell_type": "markdown",
   "metadata": {},
   "source": [
    "These figures show that average traffic does not change dramatically across months, but is highest in June, August, and October and lowest from January to December. Average traffic ramps up slightly from winter to summer and back down as winter approaches, with the interesting exception that traffic dips in July."
   ]
  },
  {
   "cell_type": "markdown",
   "metadata": {},
   "source": [
    "### Effect of Day of the Week on Traffic"
   ]
  },
  {
   "cell_type": "markdown",
   "metadata": {},
   "source": [
    "Next, we'll look at effects of weekday on traffic. We'll follow the same protocol, creating a day variable, then averaging and plotting by day."
   ]
  },
  {
   "cell_type": "code",
   "execution_count": null,
   "metadata": {},
   "outputs": [],
   "source": [
    "traffic['dayofweek'] = traffic['date_time'].dt.dayofweek"
   ]
  },
  {
   "cell_type": "code",
   "execution_count": null,
   "metadata": {},
   "outputs": [],
   "source": [
    "traffic['dayofweek'].describe()"
   ]
  },
  {
   "cell_type": "markdown",
   "metadata": {},
   "source": [
    "Day of week is described by the numbers 0 (Monday) to 7 (Sunday)."
   ]
  },
  {
   "cell_type": "code",
   "execution_count": null,
   "metadata": {},
   "outputs": [],
   "source": [
    "daily_avgs = traffic.groupby('dayofweek').mean()[['traffic_volume']].reset_index()"
   ]
  },
  {
   "cell_type": "code",
   "execution_count": null,
   "metadata": {},
   "outputs": [],
   "source": [
    "plt.figure(figsize=(10,4))\n",
    "\n",
    "# Violin Plot\n",
    "plt.subplot(1,2,1)\n",
    "sns.violinplot(data = traffic, x = \"dayofweek\",\n",
    "             y = \"traffic_volume\")\n",
    "plt.xlabel('Day of the Week')\n",
    "plt.ylabel('Mean Traffic Volume (cars/hr)')\n",
    "plt.title(\"Traffic Volume by Day of the Week\")\n",
    "#plt.ylim([0,8500])\n",
    "\n",
    "# Bar Plot of Averages\n",
    "plt.subplot(1,2,2)\n",
    "plt.bar(daily_avgs['dayofweek'], daily_avgs['traffic_volume'])\n",
    "plt.xticks(range(0,7))\n",
    "plt.xlabel('Day of the Week')\n",
    "plt.ylabel('Mean Traffic Volume (cars/hr)')\n",
    "plt.title(\"Traffic Volume by Day of the Week\")\n",
    "#plt.ylim([0,8500])\n",
    "\n",
    "plt.show()"
   ]
  },
  {
   "cell_type": "markdown",
   "metadata": {},
   "source": [
    "We can see by these plots that traffic is much lower on average on weekends compared to during the week, and the average slowly ramps up from Monday to Friday fairly regularly, with the overall trend looking very similar across the business week. Interestingly, the violin plots during the week show the trimodal tendency seen in the overall data, with the largest frequency being in high traffic times.\n",
    "\n",
    "Because of these data, we may want to reconsider the hourly trends, which may be different from business days to weekends. "
   ]
  },
  {
   "cell_type": "markdown",
   "metadata": {},
   "source": [
    "### Effect of Time of Day by Business Day vs. Weekend on Traffic"
   ]
  },
  {
   "cell_type": "code",
   "execution_count": null,
   "metadata": {},
   "outputs": [],
   "source": [
    "traffic['business_day'] = np.where(traffic['dayofweek'] <= 4, 'Business Day', 'Weekend')"
   ]
  },
  {
   "cell_type": "code",
   "execution_count": null,
   "metadata": {},
   "outputs": [],
   "source": [
    "traffic['business_day'].value_counts()"
   ]
  },
  {
   "cell_type": "markdown",
   "metadata": {},
   "source": [
    "Now, take the averages per hour, grouping  by the `business_day` variable."
   ]
  },
  {
   "cell_type": "code",
   "execution_count": null,
   "metadata": {},
   "outputs": [],
   "source": [
    "business_day_avgs = traffic.groupby(['business_day', 'hour']).mean()[['traffic_volume']].reset_index()"
   ]
  },
  {
   "cell_type": "markdown",
   "metadata": {},
   "source": [
    "Now plot."
   ]
  },
  {
   "cell_type": "code",
   "execution_count": null,
   "metadata": {},
   "outputs": [],
   "source": [
    "plt.figure(figsize=(10,10))\n",
    "\n",
    "# Violin Plots\n",
    "for i, day in zip(range(1,3), traffic['business_day'].unique()):\n",
    "    plt.subplot(2,2,i)\n",
    "    sns.violinplot(data = traffic[traffic['business_day'] == day], x = \"hour\",\n",
    "                 y = \"traffic_volume\")\n",
    "    plt.xlabel('Hour of Day')\n",
    "    plt.ylabel('Traffic Volume (cars/hr)')\n",
    "    plt.title(day)\n",
    "    plt.ylim([0,8500])\n",
    "\n",
    "# Bar Plots of Averages\n",
    "for i, day in zip(range(3,5), traffic['business_day'].unique()):\n",
    "    plt.subplot(2,2,i)\n",
    "    plt.bar(business_day_avgs.loc[business_day_avgs['business_day']==day,'hour'], business_day_avgs.loc[business_day_avgs['business_day']==day,'traffic_volume'])\n",
    "    plt.xticks(range(0,24))\n",
    "    plt.xlabel('Hour of Day')\n",
    "    plt.ylabel('Mean Traffic Volume (cars/hr)')\n",
    "    plt.title(day)\n",
    "    plt.ylim([0,8500])\n",
    "\n",
    "plt.show()\n"
   ]
  },
  {
   "cell_type": "markdown",
   "metadata": {},
   "source": [
    "These plots make clear that the weekday traffic trend is more strongly bimodal, with traffic peaking in the pre-work rush hour around 7:00 am and in the post-work rush hour around 4:00 pm (16:00). Traffic stays relatively high during weekdays bewteen 6:00 am and 6:00 pm. \n",
    "\n",
    "On weekends, the distribution is strongly unimodal, looking roughly the same as weekdays if the pre- and post-work peaks were shaved down and the distribution were moved roughly three hours later. Traffic on weekeds has a lower peak, but is strongest between 8:00 am and 10:00 pm."
   ]
  },
  {
   "cell_type": "markdown",
   "metadata": {},
   "source": [
    "### Influence of Weather on Traffic"
   ]
  },
  {
   "cell_type": "markdown",
   "metadata": {},
   "source": [
    "We have already seen that winter traffic is lower than summer traffic, suggesting heat and weather may have a strong influence. Given that we have weather variables to inspect, we can now take a look at those.\n",
    "\n",
    "Here, we can take a more correlational approach, looking directly at the relationship between traffic volume and our weather variables, `temp`, `rain_1h`, `snow_1h`, and `clouds_all`. We also have descriptive variables, `weather_main` and `weather_description`, which are non-numeric. We might treat these categorically.\n",
    "\n",
    "First, let's look at a description of these variables."
   ]
  },
  {
   "cell_type": "code",
   "execution_count": null,
   "metadata": {},
   "outputs": [],
   "source": [
    "print(traffic[['temp', 'rain_1h', 'snow_1h', 'clouds_all', 'weather_main', 'weather_description']].head())"
   ]
  },
  {
   "cell_type": "code",
   "execution_count": null,
   "metadata": {},
   "outputs": [],
   "source": [
    "traffic[['temp', 'rain_1h', 'snow_1h', 'clouds_all', 'weather_main', 'weather_description']].describe()"
   ]
  },
  {
   "cell_type": "markdown",
   "metadata": {},
   "source": [
    "#### Numerical Weather Variables"
   ]
  },
  {
   "cell_type": "markdown",
   "metadata": {},
   "source": [
    "Now, let's look at the correlation of traffic volume with the numerical weather variables.\n",
    "\n",
    "Temperature has some points listed as 0 Kelvin, which is impossible, so we'll omit those first."
   ]
  },
  {
   "cell_type": "code",
   "execution_count": null,
   "metadata": {},
   "outputs": [],
   "source": [
    "traffic = traffic[traffic['temp'] > 0]\n",
    "traffic[['traffic_volume','temp', 'rain_1h', 'snow_1h', 'clouds_all']].corr()['traffic_volume']"
   ]
  },
  {
   "cell_type": "code",
   "execution_count": null,
   "metadata": {},
   "outputs": [],
   "source": [
    "from scipy.stats import pearsonr\n",
    "print(pearsonr(traffic['temp'], traffic['traffic_volume']))\n",
    "print(pearsonr(traffic['rain_1h'], traffic['traffic_volume']))\n",
    "print(pearsonr(traffic['snow_1h'], traffic['traffic_volume']))\n",
    "print(pearsonr(traffic['clouds_all'], traffic['traffic_volume']))\n"
   ]
  },
  {
   "cell_type": "markdown",
   "metadata": {},
   "source": [
    "It looks like there are significant correlations of traffic volume with both temperature (r = .13) and percentage of cloud cover (r = .07). Both are positive, indicating that traffic volume increases with increased temperature, and paradoxically, increased cloud cover. \n",
    "\n",
    "Let's see what these correlations look like when plotted."
   ]
  },
  {
   "cell_type": "code",
   "execution_count": null,
   "metadata": {},
   "outputs": [],
   "source": [
    "traffic[traffic['temp'] > 0].plot.scatter(x='temp',\n",
    "                     y='traffic_volume', alpha=.1)\n",
    "plt.xlabel('Temperature (K)')\n",
    "plt.ylabel('Traffic Volume (cars/hr)')\n",
    "plt.title('Relationship of Temparature and Traffic Volume')\n",
    "plt.show()"
   ]
  },
  {
   "cell_type": "code",
   "execution_count": null,
   "metadata": {},
   "outputs": [],
   "source": [
    "traffic.plot.scatter(x='clouds_all',\n",
    "                     y='traffic_volume', alpha=.1)\n",
    "plt.xlabel('% Cloud Cover')\n",
    "plt.ylabel('Traffic Volume (cars/hr)')\n",
    "plt.title('Relationship of Cloud Cover and Traffic Volume')\n",
    "plt.show()"
   ]
  },
  {
   "cell_type": "markdown",
   "metadata": {},
   "source": [
    "Neither Temperature nor cloud cover have a strong predictive value for traffic volume, as is clear from their low correlation values and scatter plots showing no obvious relationship between the variables. While statistical tests show a very small relationship between these variables and traffic volume, they account for very little variance in traffic and would not individually be good indicators of the predicted traffic volume."
   ]
  },
  {
   "cell_type": "markdown",
   "metadata": {},
   "source": [
    "#### Categorical Weather Variables"
   ]
  },
  {
   "cell_type": "markdown",
   "metadata": {},
   "source": [
    "Now, let's look at the categorical weather variables.\n",
    "\n",
    "We'll first take a look at the unique values and their counts for both variables. Weather description seems to have some duplicates due to capitalization, so we'll make all entries lowercase."
   ]
  },
  {
   "cell_type": "code",
   "execution_count": null,
   "metadata": {},
   "outputs": [],
   "source": [
    "w_main_counts = traffic['weather_main'].value_counts()\n",
    "print(w_main_counts)\n",
    "w_main_unique = traffic['weather_main'].unique()"
   ]
  },
  {
   "cell_type": "code",
   "execution_count": null,
   "metadata": {},
   "outputs": [],
   "source": [
    "traffic['weather_description'].str.lower()"
   ]
  },
  {
   "cell_type": "code",
   "execution_count": null,
   "metadata": {},
   "outputs": [],
   "source": [
    "w_desc_counts = traffic['weather_description'].str.lower().value_counts()\n",
    "print(w_desc_counts)"
   ]
  },
  {
   "cell_type": "markdown",
   "metadata": {},
   "source": [
    "We're going to get the average traffic volume for each category and compare them, but we don't want to take the average traffic across labels with very few points, because those averages will be less reliable indicators of what the traffic volume is likely to be. Therefore, we'll set a cutoff at greater than or equal to twenty entries with a given label and average across those for each category."
   ]
  },
  {
   "cell_type": "markdown",
   "metadata": {},
   "source": [
    "First, let's subset the main dataframe for each variable with greater than 20 entries."
   ]
  },
  {
   "cell_type": "code",
   "execution_count": null,
   "metadata": {},
   "outputs": [],
   "source": [
    "traffic_w_main_20 = traffic[traffic['weather_main'].isin(w_main_counts[w_main_counts >= 20].index)]\n",
    "traffic_w_desc_20 = traffic[traffic['weather_description'].isin(w_desc_counts[w_desc_counts >= 20].index)]"
   ]
  },
  {
   "cell_type": "markdown",
   "metadata": {},
   "source": [
    "Now, let's get the average for each label in these two variables for their respective data and plot them."
   ]
  },
  {
   "cell_type": "code",
   "execution_count": null,
   "metadata": {},
   "outputs": [],
   "source": [
    "w_main_means = traffic_w_main_20.groupby('weather_main').mean()[['traffic_volume']].reset_index().sort_values('traffic_volume')\n",
    "w_desc_means = traffic_w_desc_20.groupby('weather_description').mean()[['traffic_volume']].reset_index().sort_values('traffic_volume')"
   ]
  },
  {
   "cell_type": "code",
   "execution_count": null,
   "metadata": {},
   "outputs": [],
   "source": [
    "plt.barh(y=w_main_means['weather_main'], width=w_main_means['traffic_volume'] )\n",
    "plt.xlim(2500,3700)\n",
    "plt.title('Traffic Volume by Weather')\n",
    "plt.xlabel('Traffic Volume (cars/hr)')\n",
    "plt.ylabel('Weather')\n",
    "plt.show()"
   ]
  },
  {
   "cell_type": "markdown",
   "metadata": {},
   "source": [
    "This plot shows that cloudy and hazy days increase traffic volume the most compared to clear weather, though rain, drizzle and smoke also cause some increase. On the other hand, fog decreases traffic volume the most, though snow, thunderstorm, and mist do as well."
   ]
  },
  {
   "cell_type": "code",
   "execution_count": null,
   "metadata": {},
   "outputs": [],
   "source": [
    "plt.figure(figsize=(10,10))\n",
    "plt.barh(y=w_desc_means['weather_description'], width=w_desc_means['traffic_volume'] )\n",
    "plt.xlim(2500,4700)\n",
    "plt.title('Traffic Volume by Weather (decription)')\n",
    "plt.xlabel('Traffic Volume (cars/hr)')\n",
    "plt.ylabel('Weather')\n",
    "plt.show()"
   ]
  },
  {
   "cell_type": "markdown",
   "metadata": {},
   "source": [
    "Looking at the more granular descriptions, it is clear that proximity shower rains increase traffic volume most strongly, adding roughly 750 more cars per hour compared to the next worst weather description, scattered clouds. Thunderstorms with heavy rain cause less traffic than any other weather description."
   ]
  },
  {
   "cell_type": "markdown",
   "metadata": {},
   "source": [
    "## Conclusions"
   ]
  },
  {
   "cell_type": "markdown",
   "metadata": {},
   "source": [
    "In looking for indicators of traffic on I-94 westbound we found many useful results. First, there is more high volume traffic during the day than during the night. No surprise there, given that most people live their working lives and run most errands during the day. Second, traffic tends to increase throughout the day, no matter the day, but weekdays--business days--have strong peaks pre-work around 7:00 am and post-work around 4:00 pm. Third, we observed that there is not a large variation in traffic across months of the year, but the average traffic volume tends to be higher during the summer months (with the exception of July) compared to the winter months. This may be due to the fact that winter months entail snow, which people likely want to avoid. Fifth, weekday traffic is heavier than weekend traffic. People like to rest on the weekend--imagine that! Finally, we found that numerical weather indicators did not show a strong relationship to traffic, but some weather descriptions indicate higher or lower traffic trends: proximity rain showers slow traffic dramatically compared to other weather, whereas thunderstorms with heavy rain tend to keep people off of the road. It appears that people believe they can handle rain showers, but when there is thunder they prefer to stay inside.\n",
    "\n",
    "Thus, if my business were to minimize the traffic faced on I-94, I would have my drivers deliver westbound at night, during the weekends, during the winter, and during heavy thunderstorms and fog. Of course, we might want to factor which of these same traffic indicators may increase risk of car accidents before we make any such decision."
   ]
  },
  {
   "cell_type": "code",
   "execution_count": null,
   "metadata": {},
   "outputs": [],
   "source": []
  }
 ],
 "metadata": {
  "kernelspec": {
   "display_name": "Python 3",
   "language": "python",
   "name": "python3"
  },
  "language_info": {
   "codemirror_mode": {
    "name": "ipython",
    "version": 3
   },
   "file_extension": ".py",
   "mimetype": "text/x-python",
   "name": "python",
   "nbconvert_exporter": "python",
   "pygments_lexer": "ipython3",
   "version": "3.8.5"
  }
 },
 "nbformat": 4,
 "nbformat_minor": 4
}
